{
 "cells": [
  {
   "cell_type": "code",
   "execution_count": 28,
   "id": "74ec7abf",
   "metadata": {},
   "outputs": [
    {
     "data": {
      "text/html": [
       "<table>\n",
       "<tbody>\n",
       "\t<tr><td>7 </td><td>9 </td><td>12</td><td>1 </td></tr>\n",
       "\t<tr><td>2 </td><td>4 </td><td>13</td><td>1 </td></tr>\n",
       "\t<tr><td>1 </td><td>1 </td><td> 1</td><td>1 </td></tr>\n",
       "</tbody>\n",
       "</table>\n"
      ],
      "text/latex": [
       "\\begin{tabular}{llll}\n",
       "\t 7  & 9  & 12 & 1 \\\\\n",
       "\t 2  & 4  & 13 & 1 \\\\\n",
       "\t 1  & 1  &  1 & 1 \\\\\n",
       "\\end{tabular}\n"
      ],
      "text/markdown": [
       "\n",
       "| 7  | 9  | 12 | 1  |\n",
       "| 2  | 4  | 13 | 1  |\n",
       "| 1  | 1  |  1 | 1  |\n",
       "\n"
      ],
      "text/plain": [
       "     [,1] [,2] [,3] [,4]\n",
       "[1,] 7    9    12   1   \n",
       "[2,] 2    4    13   1   \n",
       "[3,] 1    1     1   1   "
      ]
     },
     "metadata": {},
     "output_type": "display_data"
    },
    {
     "data": {
      "text/html": [
       "<table>\n",
       "<tbody>\n",
       "\t<tr><td>1 </td><td>7 </td><td>12</td><td>19</td></tr>\n",
       "\t<tr><td>2 </td><td>8 </td><td>13</td><td>20</td></tr>\n",
       "\t<tr><td>3 </td><td>9 </td><td>14</td><td>21</td></tr>\n",
       "</tbody>\n",
       "</table>\n"
      ],
      "text/latex": [
       "\\begin{tabular}{llll}\n",
       "\t 1  & 7  & 12 & 19\\\\\n",
       "\t 2  & 8  & 13 & 20\\\\\n",
       "\t 3  & 9  & 14 & 21\\\\\n",
       "\\end{tabular}\n"
      ],
      "text/markdown": [
       "\n",
       "| 1  | 7  | 12 | 19 |\n",
       "| 2  | 8  | 13 | 20 |\n",
       "| 3  | 9  | 14 | 21 |\n",
       "\n"
      ],
      "text/plain": [
       "     [,1] [,2] [,3] [,4]\n",
       "[1,] 1    7    12   19  \n",
       "[2,] 2    8    13   20  \n",
       "[3,] 3    9    14   21  "
      ]
     },
     "metadata": {},
     "output_type": "display_data"
    }
   ],
   "source": [
    "mat1.data <- c(7,9,12,1,2,4,13,1,1,1,1,1)\n",
    "mat1 <- matrix(mat1.data,nrow=3,ncol=4,byrow=TRUE)\n",
    "mat2.data <- c(1,7,12,19,2,8,13,20,3,9,14,21)\n",
    "mat2 <- matrix(mat2.data,nrow=3,ncol=4,byrow=TRUE)\n",
    "mat1\n",
    "mat2"
   ]
  },
  {
   "cell_type": "code",
   "execution_count": 29,
   "id": "0e7044dc",
   "metadata": {},
   "outputs": [
    {
     "data": {
      "text/html": [
       "<table>\n",
       "<tbody>\n",
       "\t<tr><td>7  </td><td>63 </td><td>144</td><td>19 </td></tr>\n",
       "\t<tr><td>4  </td><td>32 </td><td>169</td><td>20 </td></tr>\n",
       "\t<tr><td>3  </td><td> 9 </td><td> 14</td><td>21 </td></tr>\n",
       "</tbody>\n",
       "</table>\n"
      ],
      "text/latex": [
       "\\begin{tabular}{llll}\n",
       "\t 7   & 63  & 144 & 19 \\\\\n",
       "\t 4   & 32  & 169 & 20 \\\\\n",
       "\t 3   &  9  &  14 & 21 \\\\\n",
       "\\end{tabular}\n"
      ],
      "text/markdown": [
       "\n",
       "| 7   | 63  | 144 | 19  |\n",
       "| 4   | 32  | 169 | 20  |\n",
       "| 3   |  9  |  14 | 21  |\n",
       "\n"
      ],
      "text/plain": [
       "     [,1] [,2] [,3] [,4]\n",
       "[1,] 7    63   144  19  \n",
       "[2,] 4    32   169  20  \n",
       "[3,] 3     9    14  21  "
      ]
     },
     "metadata": {},
     "output_type": "display_data"
    }
   ],
   "source": [
    "mat1*as.vector(mat2)"
   ]
  },
  {
   "cell_type": "code",
   "execution_count": 30,
   "id": "4fe61482",
   "metadata": {},
   "outputs": [
    {
     "data": {
      "text/html": [
       "<table>\n",
       "<thead><tr><th scope=col>Id</th><th scope=col>name</th><th scope=col>salary</th></tr></thead>\n",
       "<tbody>\n",
       "\t<tr><td>1       </td><td>Peter   </td><td>623.30  </td></tr>\n",
       "\t<tr><td>2       </td><td>Amy     </td><td>515.20  </td></tr>\n",
       "\t<tr><td>3       </td><td>Ryan    </td><td>611.00  </td></tr>\n",
       "\t<tr><td>4       </td><td>Gary    </td><td>729.00  </td></tr>\n",
       "\t<tr><td>5       </td><td>Michelle</td><td>843.25  </td></tr>\n",
       "</tbody>\n",
       "</table>\n"
      ],
      "text/latex": [
       "\\begin{tabular}{r|lll}\n",
       " Id & name & salary\\\\\n",
       "\\hline\n",
       "\t 1        & Peter    & 623.30  \\\\\n",
       "\t 2        & Amy      & 515.20  \\\\\n",
       "\t 3        & Ryan     & 611.00  \\\\\n",
       "\t 4        & Gary     & 729.00  \\\\\n",
       "\t 5        & Michelle & 843.25  \\\\\n",
       "\\end{tabular}\n"
      ],
      "text/markdown": [
       "\n",
       "| Id | name | salary |\n",
       "|---|---|---|\n",
       "| 1        | Peter    | 623.30   |\n",
       "| 2        | Amy      | 515.20   |\n",
       "| 3        | Ryan     | 611.00   |\n",
       "| 4        | Gary     | 729.00   |\n",
       "| 5        | Michelle | 843.25   |\n",
       "\n"
      ],
      "text/plain": [
       "  Id name     salary\n",
       "1 1  Peter    623.30\n",
       "2 2  Amy      515.20\n",
       "3 3  Ryan     611.00\n",
       "4 4  Gary     729.00\n",
       "5 5  Michelle 843.25"
      ]
     },
     "metadata": {},
     "output_type": "display_data"
    }
   ],
   "source": [
    "Data_Frame1 <- data.frame(\n",
    "    Id = c(1,2,3,4,5),\n",
    "    name = c(\"Peter\",\"Amy\",\"Ryan\",\"Gary\",\"Michelle\"),\n",
    "    salary = c(623.30,515.20,611.00,729.00,843.25)\n",
    ")\n",
    "\n",
    "Data_Frame1"
   ]
  },
  {
   "cell_type": "code",
   "execution_count": 31,
   "id": "f04b69f0",
   "metadata": {},
   "outputs": [
    {
     "data": {
      "text/html": [
       "<table>\n",
       "<thead><tr><th scope=col>Id</th><th scope=col>name</th><th scope=col>salary</th><th scope=col>department</th></tr></thead>\n",
       "<tbody>\n",
       "\t<tr><td>1               </td><td>Peter           </td><td>623.30          </td><td>IT              </td></tr>\n",
       "\t<tr><td>2               </td><td>Amy             </td><td>515.20          </td><td>finance         </td></tr>\n",
       "\t<tr><td>3               </td><td>Ryan            </td><td>611.00          </td><td>computer science</td></tr>\n",
       "\t<tr><td>4               </td><td>Gary            </td><td>729.00          </td><td>marketing       </td></tr>\n",
       "\t<tr><td>5               </td><td>Michelle        </td><td>843.25          </td><td>maintenance     </td></tr>\n",
       "</tbody>\n",
       "</table>\n"
      ],
      "text/latex": [
       "\\begin{tabular}{r|llll}\n",
       " Id & name & salary & department\\\\\n",
       "\\hline\n",
       "\t 1                & Peter            & 623.30           & IT              \\\\\n",
       "\t 2                & Amy              & 515.20           & finance         \\\\\n",
       "\t 3                & Ryan             & 611.00           & computer science\\\\\n",
       "\t 4                & Gary             & 729.00           & marketing       \\\\\n",
       "\t 5                & Michelle         & 843.25           & maintenance     \\\\\n",
       "\\end{tabular}\n"
      ],
      "text/markdown": [
       "\n",
       "| Id | name | salary | department |\n",
       "|---|---|---|---|\n",
       "| 1                | Peter            | 623.30           | IT               |\n",
       "| 2                | Amy              | 515.20           | finance          |\n",
       "| 3                | Ryan             | 611.00           | computer science |\n",
       "| 4                | Gary             | 729.00           | marketing        |\n",
       "| 5                | Michelle         | 843.25           | maintenance      |\n",
       "\n"
      ],
      "text/plain": [
       "  Id name     salary department      \n",
       "1 1  Peter    623.30 IT              \n",
       "2 2  Amy      515.20 finance         \n",
       "3 3  Ryan     611.00 computer science\n",
       "4 4  Gary     729.00 marketing       \n",
       "5 5  Michelle 843.25 maintenance     "
      ]
     },
     "metadata": {},
     "output_type": "display_data"
    }
   ],
   "source": [
    "Data_Frame2 <- cbind(Data_Frame1, department = c(\"IT\",\"finance\",\"computer science\",\"marketing\",\"maintenance\"))\n",
    "Data_Frame2"
   ]
  },
  {
   "cell_type": "code",
   "execution_count": 36,
   "id": "2aa506cd",
   "metadata": {},
   "outputs": [
    {
     "data": {
      "text/html": [
       "<table>\n",
       "<thead><tr><th></th><th scope=col>name</th><th scope=col>salary</th></tr></thead>\n",
       "<tbody>\n",
       "\t<tr><th scope=row>1</th><td>Peter   </td><td>623.30  </td></tr>\n",
       "\t<tr><th scope=row>3</th><td>Ryan    </td><td>611.00  </td></tr>\n",
       "\t<tr><th scope=row>5</th><td>Michelle</td><td>843.25  </td></tr>\n",
       "</tbody>\n",
       "</table>\n"
      ],
      "text/latex": [
       "\\begin{tabular}{r|ll}\n",
       "  & name & salary\\\\\n",
       "\\hline\n",
       "\t1 & Peter    & 623.30  \\\\\n",
       "\t3 & Ryan     & 611.00  \\\\\n",
       "\t5 & Michelle & 843.25  \\\\\n",
       "\\end{tabular}\n"
      ],
      "text/markdown": [
       "\n",
       "| <!--/--> | name | salary |\n",
       "|---|---|---|\n",
       "| 1 | Peter    | 623.30   |\n",
       "| 3 | Ryan     | 611.00   |\n",
       "| 5 | Michelle | 843.25   |\n",
       "\n"
      ],
      "text/plain": [
       "  name     salary\n",
       "1 Peter    623.30\n",
       "3 Ryan     611.00\n",
       "5 Michelle 843.25"
      ]
     },
     "metadata": {},
     "output_type": "display_data"
    }
   ],
   "source": [
    "Data_Frame2[c(1,3,5),c(2,3)]"
   ]
  },
  {
   "cell_type": "code",
   "execution_count": 46,
   "id": "3094a3a2",
   "metadata": {},
   "outputs": [
    {
     "data": {
      "image/png": "[encoded data removed]",
      "text/plain": [
       "plot without title"
      ]
     },
     "metadata": {},
     "output_type": "display_data"
    }
   ],
   "source": [
    "x1 <- c(\"Peter\",\"Gary\",\"Michelle\")\n",
    "y1 <- c(Data_Frame2[c(1,4,5),c(3)])\n",
    "\n",
    "barplot(y1, names.arg = x1)"
   ]
  },
  {
   "cell_type": "code",
   "execution_count": 54,
   "id": "d0538bb5",
   "metadata": {},
   "outputs": [
    {
     "data": {
      "image/png": "[encoded data removed]",
      "text/plain": [
       "Plot with title \"Salary Distribution\""
      ]
     },
     "metadata": {},
     "output_type": "display_data"
    }
   ],
   "source": [
    "myLabel <- c(\"Michelle\", \"Ryan\", \"Amy\")\n",
    "x2 <- c(Data_Frame2[c(5,3,2),c(3)])\n",
    "colors <- c(\"red\",\"orange\",\"yellow\")\n",
    "pie(x2, label = myLabel, main = \"Salary Distribution\", col = colors)\n",
    "legend(\"bottomleft\", myLabel, fill = colors)\n"
   ]
  },
  {
   "cell_type": "code",
   "execution_count": null,
   "id": "594da58b",
   "metadata": {},
   "outputs": [],
   "source": []
  }
 ],
 "metadata": {
  "kernelspec": {
   "display_name": "R",
   "language": "R",
   "name": "ir"
  },
  "language_info": {
   "codemirror_mode": "r",
   "file_extension": ".r",
   "mimetype": "text/x-r-source",
   "name": "R",
   "pygments_lexer": "r",
   "version": "3.6.1"
  }
 },
 "nbformat": 4,
 "nbformat_minor": 5
}
